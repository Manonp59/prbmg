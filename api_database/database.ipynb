{
 "cells": [
  {
   "cell_type": "code",
   "execution_count": 35,
   "metadata": {},
   "outputs": [],
   "source": [
    "import pandas as pd \n",
    "import re \n",
    "import os \n",
    "from dotenv import load_dotenv\n",
    "from sqlalchemy import create_engine, text\n",
    "import pyodbc\n",
    "\n",
    "load_dotenv() \n",
    "\n",
    "driver = os.getenv(\"DRIVER\")\n",
    "server = os.getenv(\"AZURE_SERVER_NAME\")\n",
    "database = os.getenv(\"AZURE_DATABASE_NAME\")\n",
    "username = os.getenv(\"AZURE_DATABASE_USERNAME\")\n",
    "password = os.getenv(\"AZURE_DATABASE_PASSWORD\")\n",
    "\n",
    "conn = pyodbc.connect('DRIVER='+driver+';SERVER=tcp:'+server+';PORT=1433;DATABASE='+database+';UID='+username+';PWD='+ password)"
   ]
  },
  {
   "cell_type": "code",
   "execution_count": 62,
   "metadata": {},
   "outputs": [],
   "source": [
    "with conn.cursor() as cursor: \n",
    "    insert_query = \"\"\"\n",
    "    DROP TABLE incidents_location\n",
    "    \"\"\"\n",
    "    cursor.execute(insert_query)"
   ]
  },
  {
   "cell_type": "code",
   "execution_count": 63,
   "metadata": {},
   "outputs": [],
   "source": [
    "with conn.cursor() as cursor: \n",
    "    insert_query = \"\"\"\n",
    "    DROP TABLE incidents\n",
    "    \"\"\"\n",
    "    cursor.execute(insert_query)"
   ]
  },
  {
   "cell_type": "code",
   "execution_count": 64,
   "metadata": {},
   "outputs": [],
   "source": [
    "with conn.cursor() as cursor: \n",
    "    insert_query = \"\"\"\n",
    "    DROP TABLE ci_location\n",
    "    \"\"\"\n",
    "    cursor.execute(insert_query)"
   ]
  },
  {
   "cell_type": "code",
   "execution_count": 65,
   "metadata": {},
   "outputs": [],
   "source": [
    "with conn.cursor() as cursor: \n",
    "    insert_query = \"\"\"\n",
    "    DROP TABLE incidents_embeddings\n",
    "    \"\"\"\n",
    "    cursor.execute(insert_query)"
   ]
  },
  {
   "cell_type": "code",
   "execution_count": 4,
   "metadata": {},
   "outputs": [],
   "source": [
    "with conn.cursor() as cursor: \n",
    "    create_table_query = \"\"\"\n",
    "    CREATE TABLE incidents_embeddings (\n",
    "        incident_number VARCHAR(50) PRIMARY KEY, \n",
    "        description TEXT NOT NULL, \n",
    "        category_full VARCHAR(100) NOT NULL, \n",
    "        ci_name VARCHAR(100) NOT NULL, \n",
    "        location_full VARCHAR(300),\n",
    "        docs VARCHAR(8000),\n",
    "        resulted_embeddings VARCHAR(MAX)\n",
    "    );\n",
    "    \"\"\"\n",
    "    cursor.execute(create_table_query)"
   ]
  },
  {
   "cell_type": "code",
   "execution_count": 66,
   "metadata": {},
   "outputs": [],
   "source": [
    "with conn.cursor() as cursor: \n",
    "    insert_query = \"\"\"\n",
    "    DROP TABLE incidents_clusters\n",
    "    \"\"\"\n",
    "    cursor.execute(insert_query)"
   ]
  },
  {
   "cell_type": "code",
   "execution_count": 21,
   "metadata": {},
   "outputs": [],
   "source": [
    "\n",
    "with conn.cursor() as cursor:\n",
    "    create_table_query = \"\"\"\n",
    "    CREATE TABLE incidents_clusters (\n",
    "    incident_number VARCHAR(50) PRIMARY KEY, \n",
    "        description TEXT NOT NULL, \n",
    "        category_full VARCHAR(100) NOT NULL, \n",
    "        ci_name VARCHAR(100) NOT NULL, \n",
    "        location_full VARCHAR(300),\n",
    "        docs VARCHAR(8000),\n",
    "        resulted_embeddings VARCHAR(MAX),\n",
    "        clusters INT\n",
    "    )\n",
    "    \"\"\"\n",
    "\n",
    "    cursor.execute(create_table_query)"
   ]
  },
  {
   "cell_type": "code",
   "execution_count": 67,
   "metadata": {},
   "outputs": [
    {
     "ename": "ProgrammingError",
     "evalue": "('42S02', \"[42S02] [Microsoft][ODBC Driver 17 for SQL Server][SQL Server]Cannot drop the table 'incidents_title', because it does not exist or you do not have permission. (3701) (SQLExecDirectW)\")",
     "output_type": "error",
     "traceback": [
      "\u001b[0;31m---------------------------------------------------------------------------\u001b[0m",
      "\u001b[0;31mProgrammingError\u001b[0m                          Traceback (most recent call last)",
      "Cell \u001b[0;32mIn[67], line 5\u001b[0m\n\u001b[1;32m      1\u001b[0m \u001b[38;5;28;01mwith\u001b[39;00m conn\u001b[38;5;241m.\u001b[39mcursor() \u001b[38;5;28;01mas\u001b[39;00m cursor: \n\u001b[1;32m      2\u001b[0m     insert_query \u001b[38;5;241m=\u001b[39m \u001b[38;5;124m\"\"\"\u001b[39m\n\u001b[1;32m      3\u001b[0m \u001b[38;5;124m    DROP TABLE incidents_title\u001b[39m\n\u001b[1;32m      4\u001b[0m \u001b[38;5;124m    \u001b[39m\u001b[38;5;124m\"\"\"\u001b[39m\n\u001b[0;32m----> 5\u001b[0m     \u001b[43mcursor\u001b[49m\u001b[38;5;241;43m.\u001b[39;49m\u001b[43mexecute\u001b[49m\u001b[43m(\u001b[49m\u001b[43minsert_query\u001b[49m\u001b[43m)\u001b[49m\n",
      "\u001b[0;31mProgrammingError\u001b[0m: ('42S02', \"[42S02] [Microsoft][ODBC Driver 17 for SQL Server][SQL Server]Cannot drop the table 'incidents_title', because it does not exist or you do not have permission. (3701) (SQLExecDirectW)\")"
     ]
    }
   ],
   "source": [
    "with conn.cursor() as cursor: \n",
    "    insert_query = \"\"\"\n",
    "    DROP TABLE incidents_title\n",
    "    \"\"\"\n",
    "    cursor.execute(insert_query)"
   ]
  },
  {
   "cell_type": "code",
   "execution_count": 23,
   "metadata": {},
   "outputs": [],
   "source": [
    "\n",
    "with conn.cursor() as cursor:\n",
    "    create_table_query = \"\"\"\n",
    "    CREATE TABLE incidents_title (\n",
    "    incident_number VARCHAR(50) PRIMARY KEY, \n",
    "        description TEXT NOT NULL, \n",
    "        category_full VARCHAR(100) NOT NULL, \n",
    "        ci_name VARCHAR(100) NOT NULL, \n",
    "        location_full VARCHAR(300),\n",
    "        docs VARCHAR(8000),\n",
    "        resulted_embeddings VARCHAR(MAX),\n",
    "        clusters INT,\n",
    "        problem_title VARCHAR (300)\n",
    "    )\n",
    "    \"\"\"\n",
    "\n",
    "    cursor.execute(create_table_query)"
   ]
  },
  {
   "cell_type": "code",
   "execution_count": 68,
   "metadata": {},
   "outputs": [],
   "source": [
    "with conn.cursor() as cursor: \n",
    "    insert_query = \"\"\"\n",
    "    DROP TABLE clusters_title\n",
    "    \"\"\"\n",
    "    cursor.execute(insert_query)"
   ]
  },
  {
   "cell_type": "code",
   "execution_count": 25,
   "metadata": {},
   "outputs": [],
   "source": [
    "\n",
    "with conn.cursor() as cursor:\n",
    "    create_table_query = \"\"\"\n",
    "    CREATE TABLE clusters_title (\n",
    "        cluster INT PRIMARY KEY,\n",
    "        problem_title VARCHAR (300)\n",
    "    )\n",
    "    \"\"\"\n",
    "\n",
    "    cursor.execute(create_table_query)"
   ]
  }
 ],
 "metadata": {
  "kernelspec": {
   "display_name": "prbmg-env",
   "language": "python",
   "name": "python3"
  },
  "language_info": {
   "codemirror_mode": {
    "name": "ipython",
    "version": 3
   },
   "file_extension": ".py",
   "mimetype": "text/x-python",
   "name": "python",
   "nbconvert_exporter": "python",
   "pygments_lexer": "ipython3",
   "version": "3.10.13"
  }
 },
 "nbformat": 4,
 "nbformat_minor": 2
}
